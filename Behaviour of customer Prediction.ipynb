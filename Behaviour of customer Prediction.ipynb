{
 "cells": [
  {
   "cell_type": "code",
   "execution_count": 2,
   "metadata": {
    "collapsed": false
   },
   "outputs": [],
   "source": [
    "# Import all the important library\n",
    "import matplotlib.pyplot as plt\n",
    "import seaborn as sns\n",
    "import pandas as pd\n",
    "import numpy as np"
   ]
  },
  {
   "cell_type": "code",
   "execution_count": 3,
   "metadata": {
    "collapsed": true
   },
   "outputs": [],
   "source": [
    "#This function maps the probability values (Propensity) calculated by the models with the Corresponding Dataframe\n",
    "def map_score(dataframe,customers,prob):\n",
    "    dataframe['Propensity'] = 0\n",
    "    for i in range(len(dataframe)):\n",
    "        idx = dataframe.index[i]\n",
    "        for j in range(len(customers)):\n",
    "            if dataframe.loc[idx,'Client'] == customers[j]:\n",
    "                dataframe.loc[idx, \"Propensity\"] = prob[j]"
   ]
  },
  {
   "cell_type": "code",
   "execution_count": 4,
   "metadata": {
    "collapsed": true
   },
   "outputs": [],
   "source": [
    "df_BoA_bank = pd.read_csv(\"C:/Users/me/Desktop/Dataset.csv\")"
   ]
  },
  {
   "cell_type": "code",
   "execution_count": 5,
   "metadata": {
    "collapsed": false
   },
   "outputs": [
    {
     "data": {
      "text/html": [
       "<div>\n",
       "<style scoped>\n",
       "    .dataframe tbody tr th:only-of-type {\n",
       "        vertical-align: middle;\n",
       "    }\n",
       "\n",
       "    .dataframe tbody tr th {\n",
       "        vertical-align: top;\n",
       "    }\n",
       "\n",
       "    .dataframe thead th {\n",
       "        text-align: right;\n",
       "    }\n",
       "</style>\n",
       "<table border=\"1\" class=\"dataframe\">\n",
       "  <thead>\n",
       "    <tr style=\"text-align: right;\">\n",
       "      <th></th>\n",
       "      <th>Client</th>\n",
       "      <th>Sex</th>\n",
       "      <th>Age</th>\n",
       "      <th>Tenure</th>\n",
       "      <th>Count_CA</th>\n",
       "      <th>Count_SA</th>\n",
       "      <th>Count_MF</th>\n",
       "      <th>Count_OVD</th>\n",
       "      <th>Count_CC</th>\n",
       "      <th>Count_CL</th>\n",
       "      <th>...</th>\n",
       "      <th>TransactionsDeb_CA</th>\n",
       "      <th>TransactionsDebCash_Card</th>\n",
       "      <th>TransactionsDebCashless_Card</th>\n",
       "      <th>TransactionsDeb_PaymentOrder</th>\n",
       "      <th>Sale_MF</th>\n",
       "      <th>Sale_CC</th>\n",
       "      <th>Sale_CL</th>\n",
       "      <th>Revenue_MF</th>\n",
       "      <th>Revenue_CC</th>\n",
       "      <th>Revenue_CL</th>\n",
       "    </tr>\n",
       "  </thead>\n",
       "  <tbody>\n",
       "    <tr>\n",
       "      <th>0</th>\n",
       "      <td>1</td>\n",
       "      <td>F</td>\n",
       "      <td>51</td>\n",
       "      <td>7</td>\n",
       "      <td>1</td>\n",
       "      <td>0</td>\n",
       "      <td>0</td>\n",
       "      <td>1</td>\n",
       "      <td>0</td>\n",
       "      <td>0</td>\n",
       "      <td>...</td>\n",
       "      <td>30.0</td>\n",
       "      <td>3.0</td>\n",
       "      <td>12.0</td>\n",
       "      <td>9.0</td>\n",
       "      <td>1.0</td>\n",
       "      <td>0.0</td>\n",
       "      <td>0.0</td>\n",
       "      <td>26.972679</td>\n",
       "      <td>0.0</td>\n",
       "      <td>0.0</td>\n",
       "    </tr>\n",
       "    <tr>\n",
       "      <th>1</th>\n",
       "      <td>2</td>\n",
       "      <td>M</td>\n",
       "      <td>43</td>\n",
       "      <td>152</td>\n",
       "      <td>1</td>\n",
       "      <td>1</td>\n",
       "      <td>0</td>\n",
       "      <td>0</td>\n",
       "      <td>0</td>\n",
       "      <td>0</td>\n",
       "      <td>...</td>\n",
       "      <td>6.0</td>\n",
       "      <td>2.0</td>\n",
       "      <td>2.0</td>\n",
       "      <td>1.0</td>\n",
       "      <td>0.0</td>\n",
       "      <td>0.0</td>\n",
       "      <td>0.0</td>\n",
       "      <td>0.000000</td>\n",
       "      <td>0.0</td>\n",
       "      <td>0.0</td>\n",
       "    </tr>\n",
       "    <tr>\n",
       "      <th>2</th>\n",
       "      <td>3</td>\n",
       "      <td>M</td>\n",
       "      <td>17</td>\n",
       "      <td>140</td>\n",
       "      <td>1</td>\n",
       "      <td>0</td>\n",
       "      <td>1</td>\n",
       "      <td>0</td>\n",
       "      <td>0</td>\n",
       "      <td>0</td>\n",
       "      <td>...</td>\n",
       "      <td>3.0</td>\n",
       "      <td>0.0</td>\n",
       "      <td>1.0</td>\n",
       "      <td>1.0</td>\n",
       "      <td>NaN</td>\n",
       "      <td>NaN</td>\n",
       "      <td>NaN</td>\n",
       "      <td>NaN</td>\n",
       "      <td>NaN</td>\n",
       "      <td>NaN</td>\n",
       "    </tr>\n",
       "    <tr>\n",
       "      <th>3</th>\n",
       "      <td>4</td>\n",
       "      <td>M</td>\n",
       "      <td>24</td>\n",
       "      <td>153</td>\n",
       "      <td>1</td>\n",
       "      <td>1</td>\n",
       "      <td>0</td>\n",
       "      <td>0</td>\n",
       "      <td>1</td>\n",
       "      <td>0</td>\n",
       "      <td>...</td>\n",
       "      <td>36.0</td>\n",
       "      <td>6.0</td>\n",
       "      <td>12.0</td>\n",
       "      <td>13.0</td>\n",
       "      <td>NaN</td>\n",
       "      <td>NaN</td>\n",
       "      <td>NaN</td>\n",
       "      <td>NaN</td>\n",
       "      <td>NaN</td>\n",
       "      <td>NaN</td>\n",
       "    </tr>\n",
       "    <tr>\n",
       "      <th>4</th>\n",
       "      <td>5</td>\n",
       "      <td>F</td>\n",
       "      <td>58</td>\n",
       "      <td>200</td>\n",
       "      <td>1</td>\n",
       "      <td>1</td>\n",
       "      <td>0</td>\n",
       "      <td>0</td>\n",
       "      <td>0</td>\n",
       "      <td>0</td>\n",
       "      <td>...</td>\n",
       "      <td>41.0</td>\n",
       "      <td>4.0</td>\n",
       "      <td>17.0</td>\n",
       "      <td>13.0</td>\n",
       "      <td>NaN</td>\n",
       "      <td>NaN</td>\n",
       "      <td>NaN</td>\n",
       "      <td>NaN</td>\n",
       "      <td>NaN</td>\n",
       "      <td>NaN</td>\n",
       "    </tr>\n",
       "  </tbody>\n",
       "</table>\n",
       "<p>5 rows × 36 columns</p>\n",
       "</div>"
      ],
      "text/plain": [
       "   Client Sex  Age  Tenure  Count_CA  Count_SA  Count_MF  Count_OVD  Count_CC  \\\n",
       "0       1   F   51       7         1         0         0          1         0   \n",
       "1       2   M   43     152         1         1         0          0         0   \n",
       "2       3   M   17     140         1         0         1          0         0   \n",
       "3       4   M   24     153         1         1         0          0         1   \n",
       "4       5   F   58     200         1         1         0          0         0   \n",
       "\n",
       "   Count_CL     ...      TransactionsDeb_CA  TransactionsDebCash_Card  \\\n",
       "0         0     ...                    30.0                       3.0   \n",
       "1         0     ...                     6.0                       2.0   \n",
       "2         0     ...                     3.0                       0.0   \n",
       "3         0     ...                    36.0                       6.0   \n",
       "4         0     ...                    41.0                       4.0   \n",
       "\n",
       "   TransactionsDebCashless_Card  TransactionsDeb_PaymentOrder  Sale_MF  \\\n",
       "0                          12.0                           9.0      1.0   \n",
       "1                           2.0                           1.0      0.0   \n",
       "2                           1.0                           1.0      NaN   \n",
       "3                          12.0                          13.0      NaN   \n",
       "4                          17.0                          13.0      NaN   \n",
       "\n",
       "   Sale_CC  Sale_CL  Revenue_MF  Revenue_CC  Revenue_CL  \n",
       "0      0.0      0.0   26.972679         0.0         0.0  \n",
       "1      0.0      0.0    0.000000         0.0         0.0  \n",
       "2      NaN      NaN         NaN         NaN         NaN  \n",
       "3      NaN      NaN         NaN         NaN         NaN  \n",
       "4      NaN      NaN         NaN         NaN         NaN  \n",
       "\n",
       "[5 rows x 36 columns]"
      ]
     },
     "execution_count": 5,
     "metadata": {},
     "output_type": "execute_result"
    }
   ],
   "source": [
    "df_BoA_bank.head()"
   ]
  },
  {
   "cell_type": "code",
   "execution_count": 6,
   "metadata": {
    "collapsed": true
   },
   "outputs": [],
   "source": [
    "cust_req = pd.DataFrame({'Category': {0: 'Credit', 1: 'Loan',2:'Mutual Fund'}, 'Sum': {0: float(df_BoA_bank[[\"Sale_CC\"]].sum()),\n",
    "1:float(df_BoA_bank[[\"Sale_CL\"]].sum()),2:float(df_BoA_bank[[\"Sale_MF\"]].sum()) }})"
   ]
  },
  {
   "cell_type": "code",
   "execution_count": 8,
   "metadata": {
    "collapsed": false
   },
   "outputs": [
    {
     "data": {
      "image/png": "[encoded data removed]",
      "text/plain": [
       "<matplotlib.figure.Figure at 0x2a4ca4e2d68>"
      ]
     },
     "metadata": {},
     "output_type": "display_data"
    }
   ],
   "source": [
    "sns.barplot(x = 'Sum', y = 'Category', data = cust_req)\n",
    "plt.title('Requirement of Customers')\n",
    "plt.xlabel('Count')\n",
    "plt.ylabel('Marketing Scheme')\n",
    "plt.show()"
   ]
  },
  {
   "cell_type": "code",
   "execution_count": 9,
   "metadata": {
    "collapsed": false
   },
   "outputs": [
    {
     "name": "stdout",
     "output_type": "stream",
     "text": [
      "Sale_CL                         1.000000\n",
      "Revenue_CL                      0.709623\n",
      "Tenure                          0.182954\n",
      "TransactionsCred_CA             0.084930\n",
      "TransactionsCred                0.083528\n",
      "Count_CA                        0.083067\n",
      "TransactionsDebCash_Card        0.076641\n",
      "ActBal_MF                       0.073530\n",
      "TransactionsDeb                 0.068460\n",
      "ActBal_OVD                      0.066445\n",
      "TransactionsDeb_CA              0.064593\n",
      "VolumeDeb                       0.061754\n",
      "Count_CL                        0.052065\n",
      "VolumeDeb_PaymentOrder          0.051462\n",
      "ActBal_CL                       0.050732\n",
      "TransactionsDeb_PaymentOrder    0.049147\n",
      "Client                          0.044932\n",
      "Count_MF                        0.044770\n",
      "VolumeDeb_CA                    0.039795\n",
      "VolumeDebCashless_Card          0.038015\n",
      "Count_OVD                       0.035477\n",
      "Count_SA                        0.028808\n",
      "VolumeDebCash_Card              0.015739\n",
      "TransactionsDebCashless_Card    0.014826\n",
      "Revenue_MF                      0.013732\n",
      "VolumeCred                      0.005363\n",
      "Revenue_CC                     -0.004460\n",
      "VolumeCred_CA                  -0.006783\n",
      "Sale_MF                        -0.014640\n",
      "Sale_CC                        -0.015483\n",
      "Count_CC                       -0.017058\n",
      "ActBal_SA                      -0.046211\n",
      "ActBal_CA                      -0.055972\n",
      "ActBal_CC                      -0.076518\n",
      "Age                            -0.175033\n",
      "Name: Sale_CL, dtype: float64\n"
     ]
    }
   ],
   "source": [
    "df_BoA_bank = df_BoA_bank.dropna()\n",
    "corr = df_BoA_bank.corr()\n",
    "corr.sort_values([\"Sale_CL\"], ascending = False, inplace = True)\n",
    "print(corr.Sale_CL)"
   ]
  },
  {
   "cell_type": "code",
   "execution_count": 10,
   "metadata": {
    "collapsed": true
   },
   "outputs": [],
   "source": [
    "data_loan = df_BoA_bank[['Tenure','TransactionsCred_CA','Count_CA','TransactionsCred','TransactionsDebCash_Card','ActBal_CC','Age','Client','Sale_CL','Revenue_CL']]"
   ]
  },
  {
   "cell_type": "code",
   "execution_count": 13,
   "metadata": {
    "collapsed": false
   },
   "outputs": [],
   "source": [
    "X = data_loan.loc[:,'Tenure':'Client'].values\n",
    "y = data_loan.Sale_CL.values"
   ]
  },
  {
   "cell_type": "code",
   "execution_count": 14,
   "metadata": {
    "collapsed": false
   },
   "outputs": [
    {
     "data": {
      "image/png": "[encoded data removed]",
      "text/plain": [
       "<matplotlib.figure.Figure at 0x2a4cdac14e0>"
      ]
     },
     "metadata": {},
     "output_type": "display_data"
    }
   ],
   "source": [
    "Corr_Loan = data_loan.corr()\n",
    "plt.figure(figsize=(10,10))\n",
    "sns.heatmap(Corr_Loan, vmax=1, square=True,annot=True,cmap='seismic')\n",
    "\n",
    "plt.title('Correlation between the selected Features')\n",
    "plt.show()"
   ]
  },
  {
   "cell_type": "code",
   "execution_count": 20,
   "metadata": {
    "collapsed": false
   },
   "outputs": [],
   "source": [
    "\n",
    "from sklearn.model_selection import train_test_split\n",
    "X_train, X_test, y_train, y_test = train_test_split(X,y, test_size=0.15, random_state=42)"
   ]
  },
  {
   "cell_type": "code",
   "execution_count": 21,
   "metadata": {
    "collapsed": false
   },
   "outputs": [
    {
     "name": "stderr",
     "output_type": "stream",
     "text": [
      "C:\\Users\\me\\Anaconda3\\lib\\site-packages\\sklearn\\linear_model\\logistic.py:433: FutureWarning: Default solver will be changed to 'lbfgs' in 0.22. Specify a solver to silence this warning.\n",
      "  FutureWarning)\n"
     ]
    },
    {
     "name": "stdout",
     "output_type": "stream",
     "text": [
      "Accuracy = 0.629370629371\n"
     ]
    }
   ],
   "source": [
    "from sklearn import linear_model\n",
    "logistic = linear_model.LogisticRegression(penalty='l2',C=1,class_weight='balanced')\n",
    "logistic = logistic.fit(X_train, y_train)\n",
    "print(\"Accuracy = \"+str(logistic.score(X_test,y_test)))"
   ]
  },
  {
   "cell_type": "code",
   "execution_count": 22,
   "metadata": {
    "collapsed": true
   },
   "outputs": [],
   "source": [
    "pscore = logistic.predict_proba(X_test)[:,1] # The predicted propensities by the model"
   ]
  },
  {
   "cell_type": "code",
   "execution_count": 23,
   "metadata": {
    "collapsed": true
   },
   "outputs": [],
   "source": [
    "Clients = X_test[:,-1] "
   ]
  },
  {
   "cell_type": "code",
   "execution_count": 24,
   "metadata": {
    "collapsed": false
   },
   "outputs": [
    {
     "name": "stderr",
     "output_type": "stream",
     "text": [
      "C:\\Users\\me\\Anaconda3\\lib\\site-packages\\ipykernel\\__main__.py:3: SettingWithCopyWarning: \n",
      "A value is trying to be set on a copy of a slice from a DataFrame.\n",
      "Try using .loc[row_indexer,col_indexer] = value instead\n",
      "\n",
      "See the caveats in the documentation: http://pandas.pydata.org/pandas-docs/stable/indexing.html#indexing-view-versus-copy\n",
      "  app.launch_new_instance()\n",
      "C:\\Users\\me\\Anaconda3\\lib\\site-packages\\pandas\\core\\indexing.py:543: SettingWithCopyWarning: \n",
      "A value is trying to be set on a copy of a slice from a DataFrame.\n",
      "Try using .loc[row_indexer,col_indexer] = value instead\n",
      "\n",
      "See the caveats in the documentation: http://pandas.pydata.org/pandas-docs/stable/indexing.html#indexing-view-versus-copy\n",
      "  self.obj[item] = s\n"
     ]
    }
   ],
   "source": [
    "map_score(data_loan,Clients,pscore)"
   ]
  },
  {
   "cell_type": "code",
   "execution_count": 26,
   "metadata": {
    "collapsed": false
   },
   "outputs": [],
   "source": [
    " #Remove records where the Target sale value is 0\n",
    "data_loan =data_loan[(data_loan.Sale_CL != 0)]\n",
    "# Remove cases where probability is 0\n",
    "data_loan = data_loan[(data_loan.Propensity != 0)]\n",
    "# Remove the non essential fields \n",
    "data_loan = data_loan[['Client','Sale_CL','Revenue_CL','Propensity']]\n",
    "# Sort the values by Decreasing order of Propensity, so that the clients with the highest propensity can be targeted first\n",
    "Clients_loan = data_loan.sort_values(by ='Propensity',ascending=False)\n",
    "# Export the results to a CSV file\n",
    "Clients_loan.to_csv('Clients_loan.csv',index=False)"
   ]
  },
  {
   "cell_type": "code",
   "execution_count": 27,
   "metadata": {
    "collapsed": false
   },
   "outputs": [
    {
     "data": {
      "text/html": [
       "<div>\n",
       "<style scoped>\n",
       "    .dataframe tbody tr th:only-of-type {\n",
       "        vertical-align: middle;\n",
       "    }\n",
       "\n",
       "    .dataframe tbody tr th {\n",
       "        vertical-align: top;\n",
       "    }\n",
       "\n",
       "    .dataframe thead th {\n",
       "        text-align: right;\n",
       "    }\n",
       "</style>\n",
       "<table border=\"1\" class=\"dataframe\">\n",
       "  <thead>\n",
       "    <tr style=\"text-align: right;\">\n",
       "      <th></th>\n",
       "      <th>Client</th>\n",
       "      <th>Sale_CL</th>\n",
       "      <th>Revenue_CL</th>\n",
       "      <th>Propensity</th>\n",
       "    </tr>\n",
       "  </thead>\n",
       "  <tbody>\n",
       "    <tr>\n",
       "      <th>101</th>\n",
       "      <td>102</td>\n",
       "      <td>1.0</td>\n",
       "      <td>6.952500</td>\n",
       "      <td>0.848873</td>\n",
       "    </tr>\n",
       "    <tr>\n",
       "      <th>119</th>\n",
       "      <td>120</td>\n",
       "      <td>1.0</td>\n",
       "      <td>7.297857</td>\n",
       "      <td>0.374877</td>\n",
       "    </tr>\n",
       "    <tr>\n",
       "      <th>122</th>\n",
       "      <td>123</td>\n",
       "      <td>1.0</td>\n",
       "      <td>10.461071</td>\n",
       "      <td>0.543313</td>\n",
       "    </tr>\n",
       "    <tr>\n",
       "      <th>191</th>\n",
       "      <td>192</td>\n",
       "      <td>1.0</td>\n",
       "      <td>6.857143</td>\n",
       "      <td>0.280950</td>\n",
       "    </tr>\n",
       "    <tr>\n",
       "      <th>387</th>\n",
       "      <td>388</td>\n",
       "      <td>1.0</td>\n",
       "      <td>7.285714</td>\n",
       "      <td>0.489054</td>\n",
       "    </tr>\n",
       "    <tr>\n",
       "      <th>414</th>\n",
       "      <td>415</td>\n",
       "      <td>1.0</td>\n",
       "      <td>27.257500</td>\n",
       "      <td>0.481609</td>\n",
       "    </tr>\n",
       "    <tr>\n",
       "      <th>454</th>\n",
       "      <td>455</td>\n",
       "      <td>1.0</td>\n",
       "      <td>10.571429</td>\n",
       "      <td>0.288196</td>\n",
       "    </tr>\n",
       "    <tr>\n",
       "      <th>469</th>\n",
       "      <td>470</td>\n",
       "      <td>1.0</td>\n",
       "      <td>10.607143</td>\n",
       "      <td>0.291578</td>\n",
       "    </tr>\n",
       "    <tr>\n",
       "      <th>500</th>\n",
       "      <td>501</td>\n",
       "      <td>1.0</td>\n",
       "      <td>15.952143</td>\n",
       "      <td>0.225270</td>\n",
       "    </tr>\n",
       "    <tr>\n",
       "      <th>514</th>\n",
       "      <td>515</td>\n",
       "      <td>1.0</td>\n",
       "      <td>13.033929</td>\n",
       "      <td>0.421091</td>\n",
       "    </tr>\n",
       "    <tr>\n",
       "      <th>518</th>\n",
       "      <td>519</td>\n",
       "      <td>1.0</td>\n",
       "      <td>5.500000</td>\n",
       "      <td>0.669036</td>\n",
       "    </tr>\n",
       "    <tr>\n",
       "      <th>557</th>\n",
       "      <td>558</td>\n",
       "      <td>1.0</td>\n",
       "      <td>8.318214</td>\n",
       "      <td>0.659822</td>\n",
       "    </tr>\n",
       "    <tr>\n",
       "      <th>577</th>\n",
       "      <td>578</td>\n",
       "      <td>1.0</td>\n",
       "      <td>9.992500</td>\n",
       "      <td>0.410906</td>\n",
       "    </tr>\n",
       "    <tr>\n",
       "      <th>581</th>\n",
       "      <td>582</td>\n",
       "      <td>1.0</td>\n",
       "      <td>9.589286</td>\n",
       "      <td>0.302077</td>\n",
       "    </tr>\n",
       "    <tr>\n",
       "      <th>599</th>\n",
       "      <td>600</td>\n",
       "      <td>1.0</td>\n",
       "      <td>10.928571</td>\n",
       "      <td>0.593004</td>\n",
       "    </tr>\n",
       "    <tr>\n",
       "      <th>738</th>\n",
       "      <td>739</td>\n",
       "      <td>1.0</td>\n",
       "      <td>7.785714</td>\n",
       "      <td>0.260472</td>\n",
       "    </tr>\n",
       "    <tr>\n",
       "      <th>753</th>\n",
       "      <td>754</td>\n",
       "      <td>1.0</td>\n",
       "      <td>9.176786</td>\n",
       "      <td>0.592186</td>\n",
       "    </tr>\n",
       "    <tr>\n",
       "      <th>774</th>\n",
       "      <td>775</td>\n",
       "      <td>1.0</td>\n",
       "      <td>19.035714</td>\n",
       "      <td>0.836224</td>\n",
       "    </tr>\n",
       "    <tr>\n",
       "      <th>825</th>\n",
       "      <td>826</td>\n",
       "      <td>1.0</td>\n",
       "      <td>2.821429</td>\n",
       "      <td>0.701743</td>\n",
       "    </tr>\n",
       "    <tr>\n",
       "      <th>826</th>\n",
       "      <td>827</td>\n",
       "      <td>1.0</td>\n",
       "      <td>12.242143</td>\n",
       "      <td>0.398844</td>\n",
       "    </tr>\n",
       "    <tr>\n",
       "      <th>903</th>\n",
       "      <td>904</td>\n",
       "      <td>1.0</td>\n",
       "      <td>8.321429</td>\n",
       "      <td>0.612888</td>\n",
       "    </tr>\n",
       "    <tr>\n",
       "      <th>910</th>\n",
       "      <td>911</td>\n",
       "      <td>1.0</td>\n",
       "      <td>1.071429</td>\n",
       "      <td>0.503791</td>\n",
       "    </tr>\n",
       "    <tr>\n",
       "      <th>955</th>\n",
       "      <td>956</td>\n",
       "      <td>1.0</td>\n",
       "      <td>19.958214</td>\n",
       "      <td>0.629361</td>\n",
       "    </tr>\n",
       "    <tr>\n",
       "      <th>1032</th>\n",
       "      <td>1033</td>\n",
       "      <td>1.0</td>\n",
       "      <td>2.702500</td>\n",
       "      <td>0.667797</td>\n",
       "    </tr>\n",
       "    <tr>\n",
       "      <th>1057</th>\n",
       "      <td>1058</td>\n",
       "      <td>1.0</td>\n",
       "      <td>27.323571</td>\n",
       "      <td>0.333803</td>\n",
       "    </tr>\n",
       "    <tr>\n",
       "      <th>1059</th>\n",
       "      <td>1060</td>\n",
       "      <td>1.0</td>\n",
       "      <td>4.913571</td>\n",
       "      <td>0.465462</td>\n",
       "    </tr>\n",
       "    <tr>\n",
       "      <th>1129</th>\n",
       "      <td>1130</td>\n",
       "      <td>1.0</td>\n",
       "      <td>16.928571</td>\n",
       "      <td>0.555874</td>\n",
       "    </tr>\n",
       "    <tr>\n",
       "      <th>1154</th>\n",
       "      <td>1155</td>\n",
       "      <td>1.0</td>\n",
       "      <td>11.976429</td>\n",
       "      <td>0.493641</td>\n",
       "    </tr>\n",
       "    <tr>\n",
       "      <th>1189</th>\n",
       "      <td>1190</td>\n",
       "      <td>1.0</td>\n",
       "      <td>4.512143</td>\n",
       "      <td>0.647003</td>\n",
       "    </tr>\n",
       "    <tr>\n",
       "      <th>1222</th>\n",
       "      <td>1223</td>\n",
       "      <td>1.0</td>\n",
       "      <td>18.052500</td>\n",
       "      <td>0.372925</td>\n",
       "    </tr>\n",
       "    <tr>\n",
       "      <th>1258</th>\n",
       "      <td>1259</td>\n",
       "      <td>1.0</td>\n",
       "      <td>12.659286</td>\n",
       "      <td>0.791615</td>\n",
       "    </tr>\n",
       "    <tr>\n",
       "      <th>1264</th>\n",
       "      <td>1265</td>\n",
       "      <td>1.0</td>\n",
       "      <td>17.175357</td>\n",
       "      <td>0.631488</td>\n",
       "    </tr>\n",
       "    <tr>\n",
       "      <th>1266</th>\n",
       "      <td>1267</td>\n",
       "      <td>1.0</td>\n",
       "      <td>21.820714</td>\n",
       "      <td>0.679366</td>\n",
       "    </tr>\n",
       "    <tr>\n",
       "      <th>1267</th>\n",
       "      <td>1268</td>\n",
       "      <td>1.0</td>\n",
       "      <td>20.343571</td>\n",
       "      <td>0.640161</td>\n",
       "    </tr>\n",
       "    <tr>\n",
       "      <th>1297</th>\n",
       "      <td>1298</td>\n",
       "      <td>1.0</td>\n",
       "      <td>25.243214</td>\n",
       "      <td>0.808870</td>\n",
       "    </tr>\n",
       "    <tr>\n",
       "      <th>1307</th>\n",
       "      <td>1308</td>\n",
       "      <td>1.0</td>\n",
       "      <td>12.961071</td>\n",
       "      <td>0.410859</td>\n",
       "    </tr>\n",
       "    <tr>\n",
       "      <th>1341</th>\n",
       "      <td>1342</td>\n",
       "      <td>1.0</td>\n",
       "      <td>16.153214</td>\n",
       "      <td>0.744541</td>\n",
       "    </tr>\n",
       "    <tr>\n",
       "      <th>1391</th>\n",
       "      <td>1392</td>\n",
       "      <td>1.0</td>\n",
       "      <td>1.750000</td>\n",
       "      <td>0.618091</td>\n",
       "    </tr>\n",
       "    <tr>\n",
       "      <th>1408</th>\n",
       "      <td>1409</td>\n",
       "      <td>1.0</td>\n",
       "      <td>4.852143</td>\n",
       "      <td>0.673247</td>\n",
       "    </tr>\n",
       "    <tr>\n",
       "      <th>1426</th>\n",
       "      <td>1427</td>\n",
       "      <td>1.0</td>\n",
       "      <td>10.357143</td>\n",
       "      <td>0.735673</td>\n",
       "    </tr>\n",
       "    <tr>\n",
       "      <th>1537</th>\n",
       "      <td>1538</td>\n",
       "      <td>1.0</td>\n",
       "      <td>9.964286</td>\n",
       "      <td>0.568386</td>\n",
       "    </tr>\n",
       "    <tr>\n",
       "      <th>1557</th>\n",
       "      <td>1558</td>\n",
       "      <td>1.0</td>\n",
       "      <td>8.500000</td>\n",
       "      <td>0.604169</td>\n",
       "    </tr>\n",
       "    <tr>\n",
       "      <th>1573</th>\n",
       "      <td>1574</td>\n",
       "      <td>1.0</td>\n",
       "      <td>3.943571</td>\n",
       "      <td>0.572138</td>\n",
       "    </tr>\n",
       "    <tr>\n",
       "      <th>1589</th>\n",
       "      <td>1590</td>\n",
       "      <td>1.0</td>\n",
       "      <td>4.607143</td>\n",
       "      <td>0.602646</td>\n",
       "    </tr>\n",
       "  </tbody>\n",
       "</table>\n",
       "</div>"
      ],
      "text/plain": [
       "      Client  Sale_CL  Revenue_CL  Propensity\n",
       "101      102      1.0    6.952500    0.848873\n",
       "119      120      1.0    7.297857    0.374877\n",
       "122      123      1.0   10.461071    0.543313\n",
       "191      192      1.0    6.857143    0.280950\n",
       "387      388      1.0    7.285714    0.489054\n",
       "414      415      1.0   27.257500    0.481609\n",
       "454      455      1.0   10.571429    0.288196\n",
       "469      470      1.0   10.607143    0.291578\n",
       "500      501      1.0   15.952143    0.225270\n",
       "514      515      1.0   13.033929    0.421091\n",
       "518      519      1.0    5.500000    0.669036\n",
       "557      558      1.0    8.318214    0.659822\n",
       "577      578      1.0    9.992500    0.410906\n",
       "581      582      1.0    9.589286    0.302077\n",
       "599      600      1.0   10.928571    0.593004\n",
       "738      739      1.0    7.785714    0.260472\n",
       "753      754      1.0    9.176786    0.592186\n",
       "774      775      1.0   19.035714    0.836224\n",
       "825      826      1.0    2.821429    0.701743\n",
       "826      827      1.0   12.242143    0.398844\n",
       "903      904      1.0    8.321429    0.612888\n",
       "910      911      1.0    1.071429    0.503791\n",
       "955      956      1.0   19.958214    0.629361\n",
       "1032    1033      1.0    2.702500    0.667797\n",
       "1057    1058      1.0   27.323571    0.333803\n",
       "1059    1060      1.0    4.913571    0.465462\n",
       "1129    1130      1.0   16.928571    0.555874\n",
       "1154    1155      1.0   11.976429    0.493641\n",
       "1189    1190      1.0    4.512143    0.647003\n",
       "1222    1223      1.0   18.052500    0.372925\n",
       "1258    1259      1.0   12.659286    0.791615\n",
       "1264    1265      1.0   17.175357    0.631488\n",
       "1266    1267      1.0   21.820714    0.679366\n",
       "1267    1268      1.0   20.343571    0.640161\n",
       "1297    1298      1.0   25.243214    0.808870\n",
       "1307    1308      1.0   12.961071    0.410859\n",
       "1341    1342      1.0   16.153214    0.744541\n",
       "1391    1392      1.0    1.750000    0.618091\n",
       "1408    1409      1.0    4.852143    0.673247\n",
       "1426    1427      1.0   10.357143    0.735673\n",
       "1537    1538      1.0    9.964286    0.568386\n",
       "1557    1558      1.0    8.500000    0.604169\n",
       "1573    1574      1.0    3.943571    0.572138\n",
       "1589    1590      1.0    4.607143    0.602646"
      ]
     },
     "execution_count": 27,
     "metadata": {},
     "output_type": "execute_result"
    }
   ],
   "source": [
    "data_loan"
   ]
  },
  {
   "cell_type": "code",
   "execution_count": 28,
   "metadata": {
    "collapsed": false
   },
   "outputs": [
    {
     "name": "stdout",
     "output_type": "stream",
     "text": [
      "Sale_CC                         1.000000\n",
      "Revenue_CC                      0.266128\n",
      "ActBal_SA                       0.178872\n",
      "ActBal_CA                       0.162126\n",
      "Count_SA                        0.109100\n",
      "VolumeDeb_PaymentOrder          0.078926\n",
      "TransactionsDebCash_Card        0.067147\n",
      "Revenue_CL                      0.061286\n",
      "VolumeDeb                       0.056011\n",
      "VolumeDeb_CA                    0.048978\n",
      "Count_OVD                       0.045900\n",
      "Age                             0.044275\n",
      "TransactionsCred                0.033397\n",
      "Tenure                          0.015186\n",
      "VolumeCred                      0.015178\n",
      "TransactionsCred_CA             0.007702\n",
      "TransactionsDeb                -0.000098\n",
      "Revenue_MF                     -0.001863\n",
      "VolumeCred_CA                  -0.002583\n",
      "Client                         -0.003112\n",
      "TransactionsDeb_CA             -0.009415\n",
      "VolumeDebCash_Card             -0.009527\n",
      "TransactionsDeb_PaymentOrder   -0.009810\n",
      "Count_CC                       -0.011186\n",
      "VolumeDebCashless_Card         -0.012570\n",
      "Sale_CL                        -0.015483\n",
      "Sale_MF                        -0.019349\n",
      "ActBal_OVD                     -0.024964\n",
      "ActBal_CC                      -0.025741\n",
      "Count_MF                       -0.026799\n",
      "ActBal_MF                      -0.027401\n",
      "Count_CA                       -0.031510\n",
      "ActBal_CL                      -0.047900\n",
      "TransactionsDebCashless_Card   -0.048921\n",
      "Count_CL                       -0.060477\n",
      "Name: Sale_CC, dtype: float64\n"
     ]
    }
   ],
   "source": [
    "#Which clients have higher propensity to buy credit card?\n",
    "corr.sort_values([\"Sale_CC\"], ascending = False, inplace = True)\n",
    "print(corr.Sale_CC)"
   ]
  },
  {
   "cell_type": "code",
   "execution_count": 29,
   "metadata": {
    "collapsed": true
   },
   "outputs": [],
   "source": [
    "data_credit = df_BoA_bank[['ActBal_SA','ActBal_CA','Count_SA','VolumeDeb_PaymentOrder','TransactionsDebCash_Card','ActBal_CC','Count_CC','Client','Sale_CC','Revenue_CC']]"
   ]
  },
  {
   "cell_type": "code",
   "execution_count": 30,
   "metadata": {
    "collapsed": true
   },
   "outputs": [],
   "source": [
    "X = data_credit.loc[:,'ActBal_SA':'Client'].values\n",
    "y = data_credit.Sale_CC.values"
   ]
  },
  {
   "cell_type": "code",
   "execution_count": 31,
   "metadata": {
    "collapsed": false
   },
   "outputs": [
    {
     "data": {
      "image/png": "[encoded data removed]",
      "text/plain": [
       "<matplotlib.figure.Figure at 0x2a4cde569b0>"
      ]
     },
     "metadata": {},
     "output_type": "display_data"
    }
   ],
   "source": [
    "Corr_Credit = data_credit.corr()\n",
    "plt.figure(figsize=(10,10))\n",
    "sns.heatmap(Corr_Credit, vmax=1, square=True,annot=True,cmap='Dark2')\n",
    "\n",
    "plt.title('Correlation between the selected Features')\n",
    "plt.show()"
   ]
  },
  {
   "cell_type": "code",
   "execution_count": 32,
   "metadata": {
    "collapsed": false
   },
   "outputs": [
    {
     "name": "stdout",
     "output_type": "stream",
     "text": [
      "0.783216783217\n"
     ]
    }
   ],
   "source": [
    "from sklearn.ensemble import RandomForestClassifier\n",
    "X_train, X_test, y_train, y_test = train_test_split(X,y, test_size=0.15, random_state=42)\n",
    "clf = RandomForestClassifier(n_estimators=10)\n",
    "clf = clf.fit(X_train, y_train)\n",
    "print(clf.score(X_test,y_test))"
   ]
  },
  {
   "cell_type": "code",
   "execution_count": 33,
   "metadata": {
    "collapsed": true
   },
   "outputs": [],
   "source": [
    "pscore = clf.predict_proba(X_test)[:,1]\n",
    "# The list of clients to be mapped to the propensity score calculated\n",
    "Clients = X_test[:,-1]"
   ]
  },
  {
   "cell_type": "code",
   "execution_count": 34,
   "metadata": {
    "collapsed": false
   },
   "outputs": [
    {
     "name": "stderr",
     "output_type": "stream",
     "text": [
      "C:\\Users\\me\\Anaconda3\\lib\\site-packages\\ipykernel\\__main__.py:3: SettingWithCopyWarning: \n",
      "A value is trying to be set on a copy of a slice from a DataFrame.\n",
      "Try using .loc[row_indexer,col_indexer] = value instead\n",
      "\n",
      "See the caveats in the documentation: http://pandas.pydata.org/pandas-docs/stable/indexing.html#indexing-view-versus-copy\n",
      "  app.launch_new_instance()\n",
      "C:\\Users\\me\\Anaconda3\\lib\\site-packages\\pandas\\core\\indexing.py:543: SettingWithCopyWarning: \n",
      "A value is trying to be set on a copy of a slice from a DataFrame.\n",
      "Try using .loc[row_indexer,col_indexer] = value instead\n",
      "\n",
      "See the caveats in the documentation: http://pandas.pydata.org/pandas-docs/stable/indexing.html#indexing-view-versus-copy\n",
      "  self.obj[item] = s\n"
     ]
    }
   ],
   "source": [
    "map_score(data_credit,Clients,pscore)"
   ]
  },
  {
   "cell_type": "code",
   "execution_count": 35,
   "metadata": {
    "collapsed": true
   },
   "outputs": [],
   "source": [
    "# Remove records where the Target sale value is 0\n",
    "data_credit =data_credit[(data_credit.Sale_CC != 0)]\n",
    "# Remove cases where probability is 0\n",
    "data_credit = data_credit[(data_credit.Propensity != 0)]\n",
    "# Remove the non essential fields \n",
    "data_credit = data_credit[['Client','Sale_CC','Revenue_CC','Propensity']]\n",
    "# Sort the values by Decreasing order of Propensity, so that the clients with the highest propensity can be targeted first\n",
    "Clients_credit = data_credit.sort_values(by ='Propensity',ascending=False)\n",
    "# Export the results to a CSV file\n",
    "Clients_credit.to_csv('Clients_credit.csv',index=False)"
   ]
  },
  {
   "cell_type": "code",
   "execution_count": 36,
   "metadata": {
    "collapsed": false
   },
   "outputs": [
    {
     "data": {
      "text/html": [
       "<div>\n",
       "<style scoped>\n",
       "    .dataframe tbody tr th:only-of-type {\n",
       "        vertical-align: middle;\n",
       "    }\n",
       "\n",
       "    .dataframe tbody tr th {\n",
       "        vertical-align: top;\n",
       "    }\n",
       "\n",
       "    .dataframe thead th {\n",
       "        text-align: right;\n",
       "    }\n",
       "</style>\n",
       "<table border=\"1\" class=\"dataframe\">\n",
       "  <thead>\n",
       "    <tr style=\"text-align: right;\">\n",
       "      <th></th>\n",
       "      <th>Client</th>\n",
       "      <th>Sale_CC</th>\n",
       "      <th>Revenue_CC</th>\n",
       "      <th>Propensity</th>\n",
       "    </tr>\n",
       "  </thead>\n",
       "  <tbody>\n",
       "    <tr>\n",
       "      <th>1537</th>\n",
       "      <td>1538</td>\n",
       "      <td>1.0</td>\n",
       "      <td>1.714286</td>\n",
       "      <td>0.8</td>\n",
       "    </tr>\n",
       "    <tr>\n",
       "      <th>384</th>\n",
       "      <td>385</td>\n",
       "      <td>1.0</td>\n",
       "      <td>4.500000</td>\n",
       "      <td>0.7</td>\n",
       "    </tr>\n",
       "    <tr>\n",
       "      <th>1366</th>\n",
       "      <td>1367</td>\n",
       "      <td>1.0</td>\n",
       "      <td>5.177143</td>\n",
       "      <td>0.6</td>\n",
       "    </tr>\n",
       "    <tr>\n",
       "      <th>454</th>\n",
       "      <td>455</td>\n",
       "      <td>1.0</td>\n",
       "      <td>18.292143</td>\n",
       "      <td>0.6</td>\n",
       "    </tr>\n",
       "    <tr>\n",
       "      <th>648</th>\n",
       "      <td>649</td>\n",
       "      <td>1.0</td>\n",
       "      <td>3.000000</td>\n",
       "      <td>0.6</td>\n",
       "    </tr>\n",
       "    <tr>\n",
       "      <th>1301</th>\n",
       "      <td>1302</td>\n",
       "      <td>1.0</td>\n",
       "      <td>0.428571</td>\n",
       "      <td>0.5</td>\n",
       "    </tr>\n",
       "    <tr>\n",
       "      <th>414</th>\n",
       "      <td>415</td>\n",
       "      <td>1.0</td>\n",
       "      <td>16.428571</td>\n",
       "      <td>0.5</td>\n",
       "    </tr>\n",
       "    <tr>\n",
       "      <th>800</th>\n",
       "      <td>801</td>\n",
       "      <td>1.0</td>\n",
       "      <td>3.928571</td>\n",
       "      <td>0.5</td>\n",
       "    </tr>\n",
       "    <tr>\n",
       "      <th>617</th>\n",
       "      <td>618</td>\n",
       "      <td>1.0</td>\n",
       "      <td>18.571429</td>\n",
       "      <td>0.4</td>\n",
       "    </tr>\n",
       "    <tr>\n",
       "      <th>926</th>\n",
       "      <td>927</td>\n",
       "      <td>1.0</td>\n",
       "      <td>3.569286</td>\n",
       "      <td>0.4</td>\n",
       "    </tr>\n",
       "    <tr>\n",
       "      <th>738</th>\n",
       "      <td>739</td>\n",
       "      <td>1.0</td>\n",
       "      <td>2.138571</td>\n",
       "      <td>0.4</td>\n",
       "    </tr>\n",
       "    <tr>\n",
       "      <th>518</th>\n",
       "      <td>519</td>\n",
       "      <td>1.0</td>\n",
       "      <td>5.892857</td>\n",
       "      <td>0.3</td>\n",
       "    </tr>\n",
       "    <tr>\n",
       "      <th>373</th>\n",
       "      <td>374</td>\n",
       "      <td>1.0</td>\n",
       "      <td>76.859286</td>\n",
       "      <td>0.3</td>\n",
       "    </tr>\n",
       "    <tr>\n",
       "      <th>979</th>\n",
       "      <td>980</td>\n",
       "      <td>1.0</td>\n",
       "      <td>7.678571</td>\n",
       "      <td>0.3</td>\n",
       "    </tr>\n",
       "    <tr>\n",
       "      <th>1266</th>\n",
       "      <td>1267</td>\n",
       "      <td>1.0</td>\n",
       "      <td>2.858214</td>\n",
       "      <td>0.3</td>\n",
       "    </tr>\n",
       "    <tr>\n",
       "      <th>130</th>\n",
       "      <td>131</td>\n",
       "      <td>1.0</td>\n",
       "      <td>4.642857</td>\n",
       "      <td>0.3</td>\n",
       "    </tr>\n",
       "    <tr>\n",
       "      <th>48</th>\n",
       "      <td>49</td>\n",
       "      <td>1.0</td>\n",
       "      <td>15.246429</td>\n",
       "      <td>0.3</td>\n",
       "    </tr>\n",
       "    <tr>\n",
       "      <th>826</th>\n",
       "      <td>827</td>\n",
       "      <td>1.0</td>\n",
       "      <td>7.928571</td>\n",
       "      <td>0.2</td>\n",
       "    </tr>\n",
       "    <tr>\n",
       "      <th>1042</th>\n",
       "      <td>1043</td>\n",
       "      <td>1.0</td>\n",
       "      <td>2.857143</td>\n",
       "      <td>0.2</td>\n",
       "    </tr>\n",
       "    <tr>\n",
       "      <th>350</th>\n",
       "      <td>351</td>\n",
       "      <td>1.0</td>\n",
       "      <td>3.607143</td>\n",
       "      <td>0.2</td>\n",
       "    </tr>\n",
       "    <tr>\n",
       "      <th>1305</th>\n",
       "      <td>1306</td>\n",
       "      <td>1.0</td>\n",
       "      <td>0.893929</td>\n",
       "      <td>0.2</td>\n",
       "    </tr>\n",
       "    <tr>\n",
       "      <th>553</th>\n",
       "      <td>554</td>\n",
       "      <td>1.0</td>\n",
       "      <td>1.785714</td>\n",
       "      <td>0.1</td>\n",
       "    </tr>\n",
       "    <tr>\n",
       "      <th>95</th>\n",
       "      <td>96</td>\n",
       "      <td>1.0</td>\n",
       "      <td>6.107143</td>\n",
       "      <td>0.1</td>\n",
       "    </tr>\n",
       "    <tr>\n",
       "      <th>1059</th>\n",
       "      <td>1060</td>\n",
       "      <td>1.0</td>\n",
       "      <td>8.071429</td>\n",
       "      <td>0.1</td>\n",
       "    </tr>\n",
       "    <tr>\n",
       "      <th>1154</th>\n",
       "      <td>1155</td>\n",
       "      <td>1.0</td>\n",
       "      <td>0.214286</td>\n",
       "      <td>0.1</td>\n",
       "    </tr>\n",
       "  </tbody>\n",
       "</table>\n",
       "</div>"
      ],
      "text/plain": [
       "      Client  Sale_CC  Revenue_CC  Propensity\n",
       "1537    1538      1.0    1.714286         0.8\n",
       "384      385      1.0    4.500000         0.7\n",
       "1366    1367      1.0    5.177143         0.6\n",
       "454      455      1.0   18.292143         0.6\n",
       "648      649      1.0    3.000000         0.6\n",
       "1301    1302      1.0    0.428571         0.5\n",
       "414      415      1.0   16.428571         0.5\n",
       "800      801      1.0    3.928571         0.5\n",
       "617      618      1.0   18.571429         0.4\n",
       "926      927      1.0    3.569286         0.4\n",
       "738      739      1.0    2.138571         0.4\n",
       "518      519      1.0    5.892857         0.3\n",
       "373      374      1.0   76.859286         0.3\n",
       "979      980      1.0    7.678571         0.3\n",
       "1266    1267      1.0    2.858214         0.3\n",
       "130      131      1.0    4.642857         0.3\n",
       "48        49      1.0   15.246429         0.3\n",
       "826      827      1.0    7.928571         0.2\n",
       "1042    1043      1.0    2.857143         0.2\n",
       "350      351      1.0    3.607143         0.2\n",
       "1305    1306      1.0    0.893929         0.2\n",
       "553      554      1.0    1.785714         0.1\n",
       "95        96      1.0    6.107143         0.1\n",
       "1059    1060      1.0    8.071429         0.1\n",
       "1154    1155      1.0    0.214286         0.1"
      ]
     },
     "execution_count": 36,
     "metadata": {},
     "output_type": "execute_result"
    }
   ],
   "source": [
    "Clients_credit"
   ]
  },
  {
   "cell_type": "code",
   "execution_count": 37,
   "metadata": {
    "collapsed": false
   },
   "outputs": [
    {
     "name": "stdout",
     "output_type": "stream",
     "text": [
      "Sale_MF                         1.000000\n",
      "Revenue_MF                      0.387523\n",
      "Count_MF                        0.164022\n",
      "TransactionsDebCashless_Card    0.124785\n",
      "TransactionsDeb                 0.082344\n",
      "TransactionsCred_CA             0.081178\n",
      "TransactionsCred                0.073415\n",
      "TransactionsDeb_CA              0.053990\n",
      "ActBal_MF                       0.024952\n",
      "TransactionsDeb_PaymentOrder    0.023112\n",
      "VolumeCred_CA                   0.015664\n",
      "Client                          0.011345\n",
      "ActBal_CC                       0.010573\n",
      "Revenue_CL                      0.004459\n",
      "VolumeDebCashless_Card          0.002175\n",
      "Count_CA                        0.001232\n",
      "ActBal_OVD                     -0.001809\n",
      "TransactionsDebCash_Card       -0.002194\n",
      "Count_CC                       -0.003033\n",
      "VolumeCred                     -0.003425\n",
      "Tenure                         -0.005661\n",
      "Count_SA                       -0.006532\n",
      "Count_OVD                      -0.012146\n",
      "VolumeDeb_PaymentOrder         -0.012781\n",
      "Sale_CL                        -0.014640\n",
      "Revenue_CC                     -0.017137\n",
      "Sale_CC                        -0.019349\n",
      "Age                            -0.029240\n",
      "VolumeDebCash_Card             -0.030657\n",
      "VolumeDeb_CA                   -0.032630\n",
      "VolumeDeb                      -0.036297\n",
      "ActBal_SA                      -0.038518\n",
      "ActBal_CA                      -0.044054\n",
      "Count_CL                       -0.048078\n",
      "ActBal_CL                      -0.055063\n",
      "Name: Sale_MF, dtype: float64\n"
     ]
    }
   ],
   "source": [
    "# Which clients have higher propensity to buy mutual fund?\n",
    "corr.sort_values([\"Sale_MF\"], ascending = False, inplace = True)\n",
    "print(corr.Sale_MF)"
   ]
  },
  {
   "cell_type": "code",
   "execution_count": 39,
   "metadata": {
    "collapsed": false
   },
   "outputs": [],
   "source": [
    "data_mutual_fund = df_BoA_bank[['Count_MF','TransactionsDebCashless_Card','TransactionsDeb','TransactionsCred_CA'             \n",
    ",'TransactionsCred','TransactionsDeb_CA','ActBal_MF',\n",
    "'TransactionsDeb_PaymentOrder','VolumeCred_CA','Client','Sale_MF','Revenue_MF']]"
   ]
  },
  {
   "cell_type": "code",
   "execution_count": 41,
   "metadata": {
    "collapsed": false
   },
   "outputs": [],
   "source": [
    "X = data_mutual_fund.loc[:,'Count_MF':'Client'].values\n",
    "y = data_mutual_fund.Sale_MF.values\n",
    "\n"
   ]
  },
  {
   "cell_type": "code",
   "execution_count": 42,
   "metadata": {
    "collapsed": false
   },
   "outputs": [
    {
     "data": {
      "image/png": "[encoded data removed]",
      "text/plain": [
       "<matplotlib.figure.Figure at 0x2a4cdfb9128>"
      ]
     },
     "metadata": {},
     "output_type": "display_data"
    }
   ],
   "source": [
    "Corr_Mutual_Fund = data_mutual_fund.corr()\n",
    "plt.figure(figsize=(10,10))\n",
    "sns.heatmap(Corr_Mutual_Fund, vmax=1, square=True,annot=True,cmap='Accent')\n",
    "plt.title('Correlation between the selected Features')\n",
    "plt.show()\n"
   ]
  },
  {
   "cell_type": "code",
   "execution_count": 46,
   "metadata": {
    "collapsed": false
   },
   "outputs": [
    {
     "data": {
      "text/plain": [
       "GaussianNB(priors=None, var_smoothing=1e-09)"
      ]
     },
     "execution_count": 46,
     "metadata": {},
     "output_type": "execute_result"
    }
   ],
   "source": [
    "from sklearn.naive_bayes import GaussianNB\n",
    "X_train, X_test, y_train, y_test = train_test_split(X,y, test_size=0.15, random_state=42)\n",
    "clf = GaussianNB()\n",
    "clf.fit(X_train,y_train)\n"
   ]
  },
  {
   "cell_type": "code",
   "execution_count": 47,
   "metadata": {
    "collapsed": false
   },
   "outputs": [
    {
     "name": "stdout",
     "output_type": "stream",
     "text": [
      "0.713286713287\n"
     ]
    }
   ],
   "source": [
    "print(clf.score(X_test,y_test))"
   ]
  },
  {
   "cell_type": "code",
   "execution_count": 48,
   "metadata": {
    "collapsed": true
   },
   "outputs": [],
   "source": [
    "pscore = clf.predict_proba(X_test)[:,1]"
   ]
  },
  {
   "cell_type": "code",
   "execution_count": 49,
   "metadata": {
    "collapsed": false
   },
   "outputs": [
    {
     "name": "stderr",
     "output_type": "stream",
     "text": [
      "C:\\Users\\me\\Anaconda3\\lib\\site-packages\\ipykernel\\__main__.py:3: SettingWithCopyWarning: \n",
      "A value is trying to be set on a copy of a slice from a DataFrame.\n",
      "Try using .loc[row_indexer,col_indexer] = value instead\n",
      "\n",
      "See the caveats in the documentation: http://pandas.pydata.org/pandas-docs/stable/indexing.html#indexing-view-versus-copy\n",
      "  app.launch_new_instance()\n",
      "C:\\Users\\me\\Anaconda3\\lib\\site-packages\\pandas\\core\\indexing.py:543: SettingWithCopyWarning: \n",
      "A value is trying to be set on a copy of a slice from a DataFrame.\n",
      "Try using .loc[row_indexer,col_indexer] = value instead\n",
      "\n",
      "See the caveats in the documentation: http://pandas.pydata.org/pandas-docs/stable/indexing.html#indexing-view-versus-copy\n",
      "  self.obj[item] = s\n"
     ]
    }
   ],
   "source": [
    "Clients = X_test[:,-1]\n",
    "map_score(data_mutual_fund,Clients,pscore)\n"
   ]
  },
  {
   "cell_type": "code",
   "execution_count": 50,
   "metadata": {
    "collapsed": true
   },
   "outputs": [],
   "source": [
    "# Remove records where the Target sale value is 0\n",
    "data_mutual_fund =data_mutual_fund[(data_mutual_fund.Sale_MF != 0)]\n",
    "# Remove cases where probability is 0\n",
    "data_mutual_fund = data_mutual_fund[(data_mutual_fund.Propensity != 0)]\n",
    "# Remove the non essential fields \n",
    "data_mutual_fund = data_mutual_fund[['Client','Sale_MF','Revenue_MF','Propensity']]\n",
    "# Sort the values by Decreasing order of Propensity, so that the clients with the highest propensity can be targeted first\n",
    "Clients_mutual_fund = data_mutual_fund.sort_values(by ='Propensity',ascending=False)\n",
    "# Export the results to a CSV file\n",
    "Clients_mutual_fund.to_csv('Clients_mutual_fund.csv',index=False)"
   ]
  },
  {
   "cell_type": "code",
   "execution_count": 51,
   "metadata": {
    "collapsed": false
   },
   "outputs": [
    {
     "data": {
      "text/html": [
       "<div>\n",
       "<style scoped>\n",
       "    .dataframe tbody tr th:only-of-type {\n",
       "        vertical-align: middle;\n",
       "    }\n",
       "\n",
       "    .dataframe tbody tr th {\n",
       "        vertical-align: top;\n",
       "    }\n",
       "\n",
       "    .dataframe thead th {\n",
       "        text-align: right;\n",
       "    }\n",
       "</style>\n",
       "<table border=\"1\" class=\"dataframe\">\n",
       "  <thead>\n",
       "    <tr style=\"text-align: right;\">\n",
       "      <th></th>\n",
       "      <th>Client</th>\n",
       "      <th>Sale_MF</th>\n",
       "      <th>Revenue_MF</th>\n",
       "      <th>Propensity</th>\n",
       "    </tr>\n",
       "  </thead>\n",
       "  <tbody>\n",
       "    <tr>\n",
       "      <th>101</th>\n",
       "      <td>102</td>\n",
       "      <td>1.0</td>\n",
       "      <td>2.958036</td>\n",
       "      <td>1.000000e+00</td>\n",
       "    </tr>\n",
       "    <tr>\n",
       "      <th>1229</th>\n",
       "      <td>1230</td>\n",
       "      <td>1.0</td>\n",
       "      <td>1.547500</td>\n",
       "      <td>9.999947e-01</td>\n",
       "    </tr>\n",
       "    <tr>\n",
       "      <th>1495</th>\n",
       "      <td>1496</td>\n",
       "      <td>1.0</td>\n",
       "      <td>5.771250</td>\n",
       "      <td>9.998512e-01</td>\n",
       "    </tr>\n",
       "    <tr>\n",
       "      <th>41</th>\n",
       "      <td>42</td>\n",
       "      <td>1.0</td>\n",
       "      <td>15.275714</td>\n",
       "      <td>9.998112e-01</td>\n",
       "    </tr>\n",
       "    <tr>\n",
       "      <th>1316</th>\n",
       "      <td>1317</td>\n",
       "      <td>1.0</td>\n",
       "      <td>5.987679</td>\n",
       "      <td>8.966462e-01</td>\n",
       "    </tr>\n",
       "    <tr>\n",
       "      <th>910</th>\n",
       "      <td>911</td>\n",
       "      <td>1.0</td>\n",
       "      <td>1.269643</td>\n",
       "      <td>6.348981e-01</td>\n",
       "    </tr>\n",
       "    <tr>\n",
       "      <th>597</th>\n",
       "      <td>598</td>\n",
       "      <td>1.0</td>\n",
       "      <td>0.163571</td>\n",
       "      <td>6.015491e-01</td>\n",
       "    </tr>\n",
       "    <tr>\n",
       "      <th>1084</th>\n",
       "      <td>1085</td>\n",
       "      <td>1.0</td>\n",
       "      <td>3.763929</td>\n",
       "      <td>4.683753e-01</td>\n",
       "    </tr>\n",
       "    <tr>\n",
       "      <th>1391</th>\n",
       "      <td>1392</td>\n",
       "      <td>1.0</td>\n",
       "      <td>1.674643</td>\n",
       "      <td>1.275515e-01</td>\n",
       "    </tr>\n",
       "    <tr>\n",
       "      <th>766</th>\n",
       "      <td>767</td>\n",
       "      <td>1.0</td>\n",
       "      <td>0.686964</td>\n",
       "      <td>1.156403e-01</td>\n",
       "    </tr>\n",
       "    <tr>\n",
       "      <th>577</th>\n",
       "      <td>578</td>\n",
       "      <td>1.0</td>\n",
       "      <td>10.883571</td>\n",
       "      <td>1.146768e-01</td>\n",
       "    </tr>\n",
       "    <tr>\n",
       "      <th>1032</th>\n",
       "      <td>1033</td>\n",
       "      <td>1.0</td>\n",
       "      <td>1.129107</td>\n",
       "      <td>1.042231e-01</td>\n",
       "    </tr>\n",
       "    <tr>\n",
       "      <th>68</th>\n",
       "      <td>69</td>\n",
       "      <td>1.0</td>\n",
       "      <td>42.716607</td>\n",
       "      <td>8.084377e-02</td>\n",
       "    </tr>\n",
       "    <tr>\n",
       "      <th>493</th>\n",
       "      <td>494</td>\n",
       "      <td>1.0</td>\n",
       "      <td>4.361786</td>\n",
       "      <td>7.585671e-02</td>\n",
       "    </tr>\n",
       "    <tr>\n",
       "      <th>926</th>\n",
       "      <td>927</td>\n",
       "      <td>1.0</td>\n",
       "      <td>9.385714</td>\n",
       "      <td>7.529954e-02</td>\n",
       "    </tr>\n",
       "    <tr>\n",
       "      <th>756</th>\n",
       "      <td>757</td>\n",
       "      <td>1.0</td>\n",
       "      <td>9.939821</td>\n",
       "      <td>7.230745e-02</td>\n",
       "    </tr>\n",
       "    <tr>\n",
       "      <th>1157</th>\n",
       "      <td>1158</td>\n",
       "      <td>1.0</td>\n",
       "      <td>1.656250</td>\n",
       "      <td>7.229895e-02</td>\n",
       "    </tr>\n",
       "    <tr>\n",
       "      <th>291</th>\n",
       "      <td>292</td>\n",
       "      <td>1.0</td>\n",
       "      <td>0.641250</td>\n",
       "      <td>7.065638e-02</td>\n",
       "    </tr>\n",
       "    <tr>\n",
       "      <th>444</th>\n",
       "      <td>445</td>\n",
       "      <td>1.0</td>\n",
       "      <td>1.368393</td>\n",
       "      <td>7.022919e-02</td>\n",
       "    </tr>\n",
       "    <tr>\n",
       "      <th>1142</th>\n",
       "      <td>1143</td>\n",
       "      <td>1.0</td>\n",
       "      <td>2.008393</td>\n",
       "      <td>6.742678e-02</td>\n",
       "    </tr>\n",
       "    <tr>\n",
       "      <th>882</th>\n",
       "      <td>883</td>\n",
       "      <td>1.0</td>\n",
       "      <td>2.231964</td>\n",
       "      <td>6.669094e-02</td>\n",
       "    </tr>\n",
       "    <tr>\n",
       "      <th>906</th>\n",
       "      <td>907</td>\n",
       "      <td>1.0</td>\n",
       "      <td>2.288393</td>\n",
       "      <td>6.483041e-02</td>\n",
       "    </tr>\n",
       "    <tr>\n",
       "      <th>972</th>\n",
       "      <td>973</td>\n",
       "      <td>1.0</td>\n",
       "      <td>0.686429</td>\n",
       "      <td>6.318992e-02</td>\n",
       "    </tr>\n",
       "    <tr>\n",
       "      <th>1410</th>\n",
       "      <td>1411</td>\n",
       "      <td>1.0</td>\n",
       "      <td>0.799643</td>\n",
       "      <td>6.102758e-02</td>\n",
       "    </tr>\n",
       "    <tr>\n",
       "      <th>1301</th>\n",
       "      <td>1302</td>\n",
       "      <td>1.0</td>\n",
       "      <td>10.126429</td>\n",
       "      <td>6.074616e-02</td>\n",
       "    </tr>\n",
       "    <tr>\n",
       "      <th>348</th>\n",
       "      <td>349</td>\n",
       "      <td>1.0</td>\n",
       "      <td>65.704107</td>\n",
       "      <td>5.897712e-02</td>\n",
       "    </tr>\n",
       "    <tr>\n",
       "      <th>800</th>\n",
       "      <td>801</td>\n",
       "      <td>1.0</td>\n",
       "      <td>51.965536</td>\n",
       "      <td>5.810895e-02</td>\n",
       "    </tr>\n",
       "    <tr>\n",
       "      <th>532</th>\n",
       "      <td>533</td>\n",
       "      <td>1.0</td>\n",
       "      <td>0.447321</td>\n",
       "      <td>5.797947e-02</td>\n",
       "    </tr>\n",
       "    <tr>\n",
       "      <th>208</th>\n",
       "      <td>209</td>\n",
       "      <td>1.0</td>\n",
       "      <td>0.260714</td>\n",
       "      <td>5.724113e-02</td>\n",
       "    </tr>\n",
       "    <tr>\n",
       "      <th>130</th>\n",
       "      <td>131</td>\n",
       "      <td>1.0</td>\n",
       "      <td>3.138929</td>\n",
       "      <td>5.474544e-02</td>\n",
       "    </tr>\n",
       "    <tr>\n",
       "      <th>546</th>\n",
       "      <td>547</td>\n",
       "      <td>1.0</td>\n",
       "      <td>2.142321</td>\n",
       "      <td>1.953619e-02</td>\n",
       "    </tr>\n",
       "    <tr>\n",
       "      <th>1054</th>\n",
       "      <td>1055</td>\n",
       "      <td>1.0</td>\n",
       "      <td>0.516429</td>\n",
       "      <td>1.443675e-02</td>\n",
       "    </tr>\n",
       "    <tr>\n",
       "      <th>774</th>\n",
       "      <td>775</td>\n",
       "      <td>1.0</td>\n",
       "      <td>1.996071</td>\n",
       "      <td>2.664586e-189</td>\n",
       "    </tr>\n",
       "  </tbody>\n",
       "</table>\n",
       "</div>"
      ],
      "text/plain": [
       "      Client  Sale_MF  Revenue_MF     Propensity\n",
       "101      102      1.0    2.958036   1.000000e+00\n",
       "1229    1230      1.0    1.547500   9.999947e-01\n",
       "1495    1496      1.0    5.771250   9.998512e-01\n",
       "41        42      1.0   15.275714   9.998112e-01\n",
       "1316    1317      1.0    5.987679   8.966462e-01\n",
       "910      911      1.0    1.269643   6.348981e-01\n",
       "597      598      1.0    0.163571   6.015491e-01\n",
       "1084    1085      1.0    3.763929   4.683753e-01\n",
       "1391    1392      1.0    1.674643   1.275515e-01\n",
       "766      767      1.0    0.686964   1.156403e-01\n",
       "577      578      1.0   10.883571   1.146768e-01\n",
       "1032    1033      1.0    1.129107   1.042231e-01\n",
       "68        69      1.0   42.716607   8.084377e-02\n",
       "493      494      1.0    4.361786   7.585671e-02\n",
       "926      927      1.0    9.385714   7.529954e-02\n",
       "756      757      1.0    9.939821   7.230745e-02\n",
       "1157    1158      1.0    1.656250   7.229895e-02\n",
       "291      292      1.0    0.641250   7.065638e-02\n",
       "444      445      1.0    1.368393   7.022919e-02\n",
       "1142    1143      1.0    2.008393   6.742678e-02\n",
       "882      883      1.0    2.231964   6.669094e-02\n",
       "906      907      1.0    2.288393   6.483041e-02\n",
       "972      973      1.0    0.686429   6.318992e-02\n",
       "1410    1411      1.0    0.799643   6.102758e-02\n",
       "1301    1302      1.0   10.126429   6.074616e-02\n",
       "348      349      1.0   65.704107   5.897712e-02\n",
       "800      801      1.0   51.965536   5.810895e-02\n",
       "532      533      1.0    0.447321   5.797947e-02\n",
       "208      209      1.0    0.260714   5.724113e-02\n",
       "130      131      1.0    3.138929   5.474544e-02\n",
       "546      547      1.0    2.142321   1.953619e-02\n",
       "1054    1055      1.0    0.516429   1.443675e-02\n",
       "774      775      1.0    1.996071  2.664586e-189"
      ]
     },
     "execution_count": 51,
     "metadata": {},
     "output_type": "execute_result"
    }
   ],
   "source": [
    "Clients_mutual_fund"
   ]
  },
  {
   "cell_type": "code",
   "execution_count": 52,
   "metadata": {
    "collapsed": false
   },
   "outputs": [
    {
     "name": "stdout",
     "output_type": "stream",
     "text": [
      "Revenue From sale of Credit Card   = 222.392142855\n",
      "Revenue From sale of Consumer Loan = 497.757857172\n",
      "Revenue From sale of Mutual Fund   = 265.494107137\n"
     ]
    }
   ],
   "source": [
    "# Best Case Scenario\n",
    "print(\"Revenue From sale of Credit Card   = \" +str(data_credit.Revenue_CC.sum()))\n",
    "print(\"Revenue From sale of Consumer Loan = \" +str(data_loan.Revenue_CL.sum()))\n",
    "print(\"Revenue From sale of Mutual Fund   = \" +str(data_mutual_fund.Revenue_MF.sum()))"
   ]
  },
  {
   "cell_type": "code",
   "execution_count": 53,
   "metadata": {
    "collapsed": false
   },
   "outputs": [
    {
     "name": "stdout",
     "output_type": "stream",
     "text": [
      "Total best case Revenue = 985.644107164\n"
     ]
    }
   ],
   "source": [
    "print(\"Total best case Revenue = \" +str(data_credit.Revenue_CC.sum() + data_loan.Revenue_CL.sum() + data_mutual_fund.Revenue_MF.sum()))"
   ]
  },
  {
   "cell_type": "code",
   "execution_count": 54,
   "metadata": {
    "collapsed": true
   },
   "outputs": [],
   "source": [
    "data_credit.rename(columns={'Revenue_CC': 'Revenue'}, inplace=True)\n",
    "data_loan.rename(columns={'Revenue_CL': 'Revenue'}, inplace=True)\n",
    "data_mutual_fund.rename(columns={'Revenue_MF': 'Revenue'}, inplace=True)"
   ]
  },
  {
   "cell_type": "code",
   "execution_count": 55,
   "metadata": {
    "collapsed": false
   },
   "outputs": [
    {
     "name": "stderr",
     "output_type": "stream",
     "text": [
      "C:\\Users\\me\\Anaconda3\\lib\\site-packages\\pandas\\core\\frame.py:6211: FutureWarning: Sorting because non-concatenation axis is not aligned. A future version\n",
      "of pandas will change to not sort by default.\n",
      "\n",
      "To accept the future behavior, pass 'sort=False'.\n",
      "\n",
      "To retain the current behavior and silence the warning, pass 'sort=True'.\n",
      "\n",
      "  sort=sort)\n"
     ]
    }
   ],
   "source": [
    "Consolidated_data = data_credit[[\"Client\",\"Revenue\",'Propensity']].copy()\n",
    "Consolidated_data['Category'] = 'Credit'\n",
    "Consolidated_data = Consolidated_data.append(data_loan)\n",
    "Consolidated_data = Consolidated_data[['Category','Client','Revenue','Propensity']]\n",
    "Consolidated_data = Consolidated_data.fillna('Loan')\n",
    "Consolidated_data = Consolidated_data.append(data_mutual_fund)\n",
    "Consolidated_data = Consolidated_data[['Category','Client','Revenue','Propensity']]\n",
    "Consolidated_data = Consolidated_data.fillna('mutual_fund')"
   ]
  },
  {
   "cell_type": "code",
   "execution_count": 56,
   "metadata": {
    "collapsed": false
   },
   "outputs": [
    {
     "data": {
      "text/plain": [
       "Loan           44\n",
       "mutual_fund    33\n",
       "Credit         25\n",
       "Name: Category, dtype: int64"
      ]
     },
     "execution_count": 56,
     "metadata": {},
     "output_type": "execute_result"
    }
   ],
   "source": [
    "Consolidated_data['Category'].value_counts()"
   ]
  },
  {
   "cell_type": "code",
   "execution_count": 58,
   "metadata": {
    "collapsed": false
   },
   "outputs": [
    {
     "name": "stderr",
     "output_type": "stream",
     "text": [
      "C:\\Users\\me\\Anaconda3\\lib\\site-packages\\seaborn\\axisgrid.py:230: UserWarning: The `size` paramter has been renamed to `height`; please update your code.\n",
      "  warnings.warn(msg, UserWarning)\n"
     ]
    },
    {
     "data": {
      "image/png": "[encoded data removed]",
      "text/plain": [
       "<matplotlib.figure.Figure at 0x2a4cdf3fdd8>"
      ]
     },
     "metadata": {},
     "output_type": "display_data"
    },
    {
     "data": {
      "image/png": "[encoded data removed]",
      "text/plain": [
       "<matplotlib.figure.Figure at 0x2a4cdc02f60>"
      ]
     },
     "metadata": {},
     "output_type": "display_data"
    }
   ],
   "source": [
    "# Visualizing the results\n",
    "sns.FacetGrid(Consolidated_data, hue=\"Category\", size=5) \\\n",
    "   .map(plt.scatter, \"Propensity\", \"Revenue\") \\\n",
    "   .add_legend()\n",
    "plt.show()"
   ]
  },
  {
   "cell_type": "code",
   "execution_count": 59,
   "metadata": {
    "collapsed": false
   },
   "outputs": [
    {
     "data": {
      "image/png": "[encoded data removed]",
      "text/plain": [
       "<matplotlib.figure.Figure at 0x2a4ce8c2e80>"
      ]
     },
     "metadata": {},
     "output_type": "display_data"
    }
   ],
   "source": [
    "sns.violinplot(x=\"Category\", y=\"Revenue\", data=Consolidated_data, size=6)\n",
    "plt.show()"
   ]
  },
  {
   "cell_type": "code",
   "execution_count": 60,
   "metadata": {
    "collapsed": false
   },
   "outputs": [
    {
     "name": "stderr",
     "output_type": "stream",
     "text": [
      "C:\\Users\\me\\Anaconda3\\lib\\site-packages\\seaborn\\axisgrid.py:2065: UserWarning: The `size` parameter has been renamed to `height`; pleaes update your code.\n",
      "  warnings.warn(msg, UserWarning)\n",
      "C:\\Users\\me\\Anaconda3\\lib\\site-packages\\statsmodels\\nonparametric\\kdetools.py:20: VisibleDeprecationWarning: using a non-integer number instead of an integer will result in an error in the future\n",
      "  y = X[:m/2+1] + np.r_[0,X[m/2+1:],0]*1j\n"
     ]
    },
    {
     "data": {
      "image/png": "[encoded data removed]",
      "text/plain": [
       "<matplotlib.figure.Figure at 0x2a4ce5edbe0>"
      ]
     },
     "metadata": {},
     "output_type": "display_data"
    }
   ],
   "source": [
    "sns.pairplot(Consolidated_data.drop(\"Client\", axis=1), hue=\"Category\", size=3)\n",
    "plt.show()"
   ]
  },
  {
   "cell_type": "code",
   "execution_count": 63,
   "metadata": {
    "collapsed": false
   },
   "outputs": [
    {
     "data": {
      "text/html": [
       "<div>\n",
       "<style scoped>\n",
       "    .dataframe tbody tr th:only-of-type {\n",
       "        vertical-align: middle;\n",
       "    }\n",
       "\n",
       "    .dataframe tbody tr th {\n",
       "        vertical-align: top;\n",
       "    }\n",
       "\n",
       "    .dataframe thead th {\n",
       "        text-align: right;\n",
       "    }\n",
       "</style>\n",
       "<table border=\"1\" class=\"dataframe\">\n",
       "  <thead>\n",
       "    <tr style=\"text-align: right;\">\n",
       "      <th></th>\n",
       "      <th>Category</th>\n",
       "      <th>Client</th>\n",
       "      <th>Revenue</th>\n",
       "      <th>Propensity</th>\n",
       "    </tr>\n",
       "  </thead>\n",
       "  <tbody>\n",
       "    <tr>\n",
       "      <th>101</th>\n",
       "      <td>mutual_fund</td>\n",
       "      <td>102</td>\n",
       "      <td>2.958036</td>\n",
       "      <td>1.000000</td>\n",
       "    </tr>\n",
       "    <tr>\n",
       "      <th>1229</th>\n",
       "      <td>mutual_fund</td>\n",
       "      <td>1230</td>\n",
       "      <td>1.547500</td>\n",
       "      <td>0.999995</td>\n",
       "    </tr>\n",
       "    <tr>\n",
       "      <th>1495</th>\n",
       "      <td>mutual_fund</td>\n",
       "      <td>1496</td>\n",
       "      <td>5.771250</td>\n",
       "      <td>0.999851</td>\n",
       "    </tr>\n",
       "    <tr>\n",
       "      <th>41</th>\n",
       "      <td>mutual_fund</td>\n",
       "      <td>42</td>\n",
       "      <td>15.275714</td>\n",
       "      <td>0.999811</td>\n",
       "    </tr>\n",
       "    <tr>\n",
       "      <th>1316</th>\n",
       "      <td>mutual_fund</td>\n",
       "      <td>1317</td>\n",
       "      <td>5.987679</td>\n",
       "      <td>0.896646</td>\n",
       "    </tr>\n",
       "    <tr>\n",
       "      <th>910</th>\n",
       "      <td>mutual_fund</td>\n",
       "      <td>911</td>\n",
       "      <td>1.269643</td>\n",
       "      <td>0.634898</td>\n",
       "    </tr>\n",
       "    <tr>\n",
       "      <th>597</th>\n",
       "      <td>mutual_fund</td>\n",
       "      <td>598</td>\n",
       "      <td>0.163571</td>\n",
       "      <td>0.601549</td>\n",
       "    </tr>\n",
       "    <tr>\n",
       "      <th>101</th>\n",
       "      <td>Loan</td>\n",
       "      <td>102</td>\n",
       "      <td>6.952500</td>\n",
       "      <td>0.848873</td>\n",
       "    </tr>\n",
       "    <tr>\n",
       "      <th>774</th>\n",
       "      <td>Loan</td>\n",
       "      <td>775</td>\n",
       "      <td>19.035714</td>\n",
       "      <td>0.836224</td>\n",
       "    </tr>\n",
       "    <tr>\n",
       "      <th>1297</th>\n",
       "      <td>Loan</td>\n",
       "      <td>1298</td>\n",
       "      <td>25.243214</td>\n",
       "      <td>0.808870</td>\n",
       "    </tr>\n",
       "    <tr>\n",
       "      <th>1258</th>\n",
       "      <td>Loan</td>\n",
       "      <td>1259</td>\n",
       "      <td>12.659286</td>\n",
       "      <td>0.791615</td>\n",
       "    </tr>\n",
       "    <tr>\n",
       "      <th>1341</th>\n",
       "      <td>Loan</td>\n",
       "      <td>1342</td>\n",
       "      <td>16.153214</td>\n",
       "      <td>0.744541</td>\n",
       "    </tr>\n",
       "    <tr>\n",
       "      <th>1426</th>\n",
       "      <td>Loan</td>\n",
       "      <td>1427</td>\n",
       "      <td>10.357143</td>\n",
       "      <td>0.735673</td>\n",
       "    </tr>\n",
       "    <tr>\n",
       "      <th>825</th>\n",
       "      <td>Loan</td>\n",
       "      <td>826</td>\n",
       "      <td>2.821429</td>\n",
       "      <td>0.701743</td>\n",
       "    </tr>\n",
       "    <tr>\n",
       "      <th>1266</th>\n",
       "      <td>Loan</td>\n",
       "      <td>1267</td>\n",
       "      <td>21.820714</td>\n",
       "      <td>0.679366</td>\n",
       "    </tr>\n",
       "    <tr>\n",
       "      <th>1408</th>\n",
       "      <td>Loan</td>\n",
       "      <td>1409</td>\n",
       "      <td>4.852143</td>\n",
       "      <td>0.673247</td>\n",
       "    </tr>\n",
       "    <tr>\n",
       "      <th>518</th>\n",
       "      <td>Loan</td>\n",
       "      <td>519</td>\n",
       "      <td>5.500000</td>\n",
       "      <td>0.669036</td>\n",
       "    </tr>\n",
       "    <tr>\n",
       "      <th>1032</th>\n",
       "      <td>Loan</td>\n",
       "      <td>1033</td>\n",
       "      <td>2.702500</td>\n",
       "      <td>0.667797</td>\n",
       "    </tr>\n",
       "    <tr>\n",
       "      <th>557</th>\n",
       "      <td>Loan</td>\n",
       "      <td>558</td>\n",
       "      <td>8.318214</td>\n",
       "      <td>0.659822</td>\n",
       "    </tr>\n",
       "    <tr>\n",
       "      <th>1189</th>\n",
       "      <td>Loan</td>\n",
       "      <td>1190</td>\n",
       "      <td>4.512143</td>\n",
       "      <td>0.647003</td>\n",
       "    </tr>\n",
       "    <tr>\n",
       "      <th>1267</th>\n",
       "      <td>Loan</td>\n",
       "      <td>1268</td>\n",
       "      <td>20.343571</td>\n",
       "      <td>0.640161</td>\n",
       "    </tr>\n",
       "    <tr>\n",
       "      <th>1264</th>\n",
       "      <td>Loan</td>\n",
       "      <td>1265</td>\n",
       "      <td>17.175357</td>\n",
       "      <td>0.631488</td>\n",
       "    </tr>\n",
       "    <tr>\n",
       "      <th>955</th>\n",
       "      <td>Loan</td>\n",
       "      <td>956</td>\n",
       "      <td>19.958214</td>\n",
       "      <td>0.629361</td>\n",
       "    </tr>\n",
       "    <tr>\n",
       "      <th>1391</th>\n",
       "      <td>Loan</td>\n",
       "      <td>1392</td>\n",
       "      <td>1.750000</td>\n",
       "      <td>0.618091</td>\n",
       "    </tr>\n",
       "    <tr>\n",
       "      <th>903</th>\n",
       "      <td>Loan</td>\n",
       "      <td>904</td>\n",
       "      <td>8.321429</td>\n",
       "      <td>0.612888</td>\n",
       "    </tr>\n",
       "    <tr>\n",
       "      <th>1557</th>\n",
       "      <td>Loan</td>\n",
       "      <td>1558</td>\n",
       "      <td>8.500000</td>\n",
       "      <td>0.604169</td>\n",
       "    </tr>\n",
       "    <tr>\n",
       "      <th>1589</th>\n",
       "      <td>Loan</td>\n",
       "      <td>1590</td>\n",
       "      <td>4.607143</td>\n",
       "      <td>0.602646</td>\n",
       "    </tr>\n",
       "    <tr>\n",
       "      <th>1537</th>\n",
       "      <td>Credit</td>\n",
       "      <td>1538</td>\n",
       "      <td>1.714286</td>\n",
       "      <td>0.800000</td>\n",
       "    </tr>\n",
       "    <tr>\n",
       "      <th>384</th>\n",
       "      <td>Credit</td>\n",
       "      <td>385</td>\n",
       "      <td>4.500000</td>\n",
       "      <td>0.700000</td>\n",
       "    </tr>\n",
       "    <tr>\n",
       "      <th>454</th>\n",
       "      <td>Credit</td>\n",
       "      <td>455</td>\n",
       "      <td>18.292143</td>\n",
       "      <td>0.600000</td>\n",
       "    </tr>\n",
       "    <tr>\n",
       "      <th>648</th>\n",
       "      <td>Credit</td>\n",
       "      <td>649</td>\n",
       "      <td>3.000000</td>\n",
       "      <td>0.600000</td>\n",
       "    </tr>\n",
       "    <tr>\n",
       "      <th>1366</th>\n",
       "      <td>Credit</td>\n",
       "      <td>1367</td>\n",
       "      <td>5.177143</td>\n",
       "      <td>0.600000</td>\n",
       "    </tr>\n",
       "  </tbody>\n",
       "</table>\n",
       "</div>"
      ],
      "text/plain": [
       "         Category  Client    Revenue  Propensity\n",
       "101   mutual_fund     102   2.958036    1.000000\n",
       "1229  mutual_fund    1230   1.547500    0.999995\n",
       "1495  mutual_fund    1496   5.771250    0.999851\n",
       "41    mutual_fund      42  15.275714    0.999811\n",
       "1316  mutual_fund    1317   5.987679    0.896646\n",
       "910   mutual_fund     911   1.269643    0.634898\n",
       "597   mutual_fund     598   0.163571    0.601549\n",
       "101          Loan     102   6.952500    0.848873\n",
       "774          Loan     775  19.035714    0.836224\n",
       "1297         Loan    1298  25.243214    0.808870\n",
       "1258         Loan    1259  12.659286    0.791615\n",
       "1341         Loan    1342  16.153214    0.744541\n",
       "1426         Loan    1427  10.357143    0.735673\n",
       "825          Loan     826   2.821429    0.701743\n",
       "1266         Loan    1267  21.820714    0.679366\n",
       "1408         Loan    1409   4.852143    0.673247\n",
       "518          Loan     519   5.500000    0.669036\n",
       "1032         Loan    1033   2.702500    0.667797\n",
       "557          Loan     558   8.318214    0.659822\n",
       "1189         Loan    1190   4.512143    0.647003\n",
       "1267         Loan    1268  20.343571    0.640161\n",
       "1264         Loan    1265  17.175357    0.631488\n",
       "955          Loan     956  19.958214    0.629361\n",
       "1391         Loan    1392   1.750000    0.618091\n",
       "903          Loan     904   8.321429    0.612888\n",
       "1557         Loan    1558   8.500000    0.604169\n",
       "1589         Loan    1590   4.607143    0.602646\n",
       "1537       Credit    1538   1.714286    0.800000\n",
       "384        Credit     385   4.500000    0.700000\n",
       "454        Credit     455  18.292143    0.600000\n",
       "648        Credit     649   3.000000    0.600000\n",
       "1366       Credit    1367   5.177143    0.600000"
      ]
     },
     "execution_count": 63,
     "metadata": {},
     "output_type": "execute_result"
    }
   ],
   "source": [
    "#Strategy to Maximize revenue\n",
    "CallTheseClients = Consolidated_data[(Consolidated_data.Propensity>=0.60)]\n",
    "CallTheseClients = CallTheseClients.sort_values(by =['Category','Propensity'],ascending=False)\n",
    "CallTheseClients"
   ]
  },
  {
   "cell_type": "code",
   "execution_count": 64,
   "metadata": {
    "collapsed": false
   },
   "outputs": [
    {
     "name": "stdout",
     "output_type": "stream",
     "text": [
      "Expected Revenue From sale of Credit Card   = 32.683571431\n",
      "Expected Revenue From sale of Consumer Loan = 221.583928589\n",
      "Expected Revenue From sale of Mutual Fund   = 32.973392861\n"
     ]
    }
   ],
   "source": [
    "Expected_Revenue = CallTheseClients.groupby(by=['Category'],as_index=False)['Revenue'].sum()\n",
    "print(\"Expected Revenue From sale of Credit Card   = \" +str(Expected_Revenue['Revenue'].iloc[0]))\n",
    "print(\"Expected Revenue From sale of Consumer Loan = \" +str(Expected_Revenue['Revenue'].iloc[1]))\n",
    "print(\"Expected Revenue From sale of Mutual Fund   = \" +str(Expected_Revenue['Revenue'].iloc[2]))"
   ]
  },
  {
   "cell_type": "code",
   "execution_count": 65,
   "metadata": {
    "collapsed": false
   },
   "outputs": [
    {
     "name": "stdout",
     "output_type": "stream",
     "text": [
      "Combined Expected Revenue = 287.240892881\n"
     ]
    }
   ],
   "source": [
    "print(\"Combined Expected Revenue = \" +str(CallTheseClients['Revenue'].sum()))"
   ]
  },
  {
   "cell_type": "code",
   "execution_count": null,
   "metadata": {
    "collapsed": true
   },
   "outputs": [],
   "source": [
    "CallTheseClients.to_csv('CallTheseClients.csv',index=False)"
   ]
  }
 ],
 "metadata": {
  "kernelspec": {
   "display_name": "Python 3",
   "language": "python",
   "name": "python3"
  },
  "language_info": {
   "codemirror_mode": {
    "name": "ipython",
    "version": 3
   },
   "file_extension": ".py",
   "mimetype": "text/x-python",
   "name": "python",
   "nbconvert_exporter": "python",
   "pygments_lexer": "ipython3",
   "version": "3.6.1"
  }
 },
 "nbformat": 4,
 "nbformat_minor": 2
}
